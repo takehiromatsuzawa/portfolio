{
 "cells": [
  {
   "cell_type": "markdown",
   "id": "0cf5bae2",
   "metadata": {},
   "source": [
    "## Projects\n",
    "### Non-Inferiority Test\n",
    "Non-inferiority trials test whether a new product is not unacceptably worse than a product already in use.\n",
    "This python script allows you to compute the number of samples you need for non-inferiority tests. You need to enter mean, variance, inferiority acceptance threshold ,significance and power to compute.\n",
    "\n",
    "For example, we want to run A/B tests with a goal of improving revenue per visitor. \n",
    "1. Our null hypothesis would be then that the variant is not performing better than control. Occasionally, we can also accept a variant that is not\n",
    "performing worse than e.g. -1% (relative) in terms of RPV compared to control. \n",
    "2. Hence, the null hypothesis (2) is\n",
    "that the variant performs -1% or worse than control. Here is a sample data of revenue / visitor.\n",
    "\n"
   ]
  },
  {
   "cell_type": "code",
   "execution_count": null,
   "id": "e2397f3a",
   "metadata": {},
   "outputs": [],
   "source": []
  },
  {
   "cell_type": "code",
   "execution_count": 1,
   "id": "6fd34517",
   "metadata": {},
   "outputs": [],
   "source": [
    "import pandas as pd\n",
    "import numpy as np\n",
    "from scipy import stats\n",
    "import scipy.stats as st"
   ]
  },
  {
   "cell_type": "code",
   "execution_count": 2,
   "id": "d3013b70",
   "metadata": {},
   "outputs": [],
   "source": [
    "data = pd.read_csv(\"data-data-scientist.csv\")\n",
    "mu = np.mean(data[data['REVENUE'] == data['REVENUE']].REVENUE)\n",
    "sigma = np.std(data[data['REVENUE'] == data['REVENUE']].REVENUE, ddof=1)"
   ]
  },
  {
   "cell_type": "code",
   "execution_count": 3,
   "id": "8ff4d36d",
   "metadata": {},
   "outputs": [],
   "source": [
    "class non_inferiority_test:\n",
    "    def __init__(self, mu, sigma):\n",
    "        self.mu = mu\n",
    "        self.sigma = sigma\n",
    "\n",
    "    def compute_num_samples(self, MDE, inferirity, alpha = 0.05, power = 0.8):\n",
    "        mu_cnt = self.mu\n",
    "        mu_test = self.mu * (1 + MDE)\n",
    "        \n",
    "        d_allowance = inferirity * mu\n",
    "        \n",
    "        delta = abs(d_allowance  + self.mu * MDE)\n",
    "#         compute pooled sample variance\n",
    "        sigma_pooled = np.sqrt((self.sigma**2 + self.sigma**2)/2)\n",
    "\n",
    "        z_score_alpha = st.norm.ppf(1- alpha/2)\n",
    "        z_score_power = st.norm.ppf(power)\n",
    "         \n",
    "        samples_need = 2*(z_score_alpha + z_score_power)**2 * (sigma**2) /(delta **2)\n",
    "        return samples_need * 2"
   ]
  },
  {
   "cell_type": "markdown",
   "id": "fa33995f",
   "metadata": {},
   "source": [
    "#### Case 1:\n",
    "MDE = 0.05, inferirity = 0.01, alpha = 0.05, power = 0.8"
   ]
  },
  {
   "cell_type": "code",
   "execution_count": 4,
   "id": "92b07baf",
   "metadata": {},
   "outputs": [
    {
     "data": {
      "text/plain": [
       "10733.433073002087"
      ]
     },
     "execution_count": 4,
     "metadata": {},
     "output_type": "execute_result"
    }
   ],
   "source": [
    "test = non_inferiority_test(38, 42)\n",
    "test.compute_num_samples(MDE = 0.05, inferirity = 0.01)"
   ]
  },
  {
   "cell_type": "code",
   "execution_count": null,
   "id": "40fd7579",
   "metadata": {},
   "outputs": [],
   "source": []
  }
 ],
 "metadata": {
  "kernelspec": {
   "display_name": "Python 3 (ipykernel)",
   "language": "python",
   "name": "python3"
  },
  "language_info": {
   "codemirror_mode": {
    "name": "ipython",
    "version": 3
   },
   "file_extension": ".py",
   "mimetype": "text/x-python",
   "name": "python",
   "nbconvert_exporter": "python",
   "pygments_lexer": "ipython3",
   "version": "3.10.9"
  }
 },
 "nbformat": 4,
 "nbformat_minor": 5
}
